{
 "cells": [
  {
   "cell_type": "code",
   "execution_count": null,
   "metadata": {},
   "outputs": [],
   "source": [
    "#Build companyDB\n",
    "import sqlite3\n",
    "import csv\n",
    "from iexfinance.stocks import Stock\n",
    "\n",
    "with open('companylist.csv','r') as csvfile:\n",
    "    reader = csv.DictReader(csvfile)\n",
    "    symbols = [row['Symbol'] for row in reader]\n",
    "print(len(symbols))\n",
    "conn = sqlite3.connect('companyDB.db')\n",
    "c = conn.cursor()\n",
    "c.execute(\"DROP TABLE if exists company\")\n",
    "c.execute(\n",
    "    \"CREATE TABLE IF NOT EXISTS company(id int, abbreviation text　COLLATE NOCASE, city text　COLLATE NOCASE, \"\n",
    "    \"conference text　COLLATE NOCASE, division text　COLLATE NOCASE,full_name text　COLLATE NOCASE,name text　COLLATE NOCASE)\")\n",
    "for symbol in symbols:\n",
    "        try:\n",
    "            stk = Stock(symbol,token=\"sk_9520be7c9fdb4ae5ad5055d91ce95721\")\n",
    "            res = stk.get_company()\n",
    "        except:\n",
    "            print(symbol+\" not find!\")\n",
    "            continue\n",
    "        else:\n",
    "            if len(results) < 2:\n",
    "                results.append(symbol)\n",
    "                print(symbol)\n",
    "            else:\n",
    "                return results\n",
    "    return results\n",
    "\n",
    "for team in result['data']:\n",
    "    insert_str = \"INSERT INTO team(id, abbreviation, city, conference, division, full_name, name) VALUES(?,?,?,?,?,?,?)\"\n",
    "    t = tuple(team.values())\n",
    "    c.execute(insert_str, t)\n",
    "c.execute(\"commit\")"
   ]
  },
  {
   "cell_type": "code",
   "execution_count": 28,
   "metadata": {},
   "outputs": [],
   "source": [
    "import sqlite3\n",
    "conn = sqlite3.connect('companyDB.db')\n",
    "c = conn.cursor()\n",
    "c.execute(\"SELECT city FROM company\")\n",
    "with open(\"citys.txt\",\"w\") as f:\n",
    "    for i in set(c.fetchall()):\n",
    "        if i[0] is not None:\n",
    "            f.writelines(i[0]+\"\\n\")\n"
   ]
  },
  {
   "cell_type": "code",
   "execution_count": 31,
   "metadata": {},
   "outputs": [
    {
     "data": {
      "text/plain": [
       "12"
      ]
     },
     "execution_count": 31,
     "metadata": {},
     "output_type": "execute_result"
    }
   ],
   "source": [
    "len(\"do you know \")"
   ]
  },
  {
   "cell_type": "code",
   "execution_count": null,
   "metadata": {},
   "outputs": [],
   "source": [
    "import sqlite3\n",
    "conn = sqlite3.connect('companyDB.db')\n",
    "c = conn.cursor()\n",
    "c.execute(\"SELECT * FROM company WHERE symbol=?\",(\"SXTC\",))\n"
   ]
  }
 ],
 "metadata": {
  "kernelspec": {
   "display_name": "Python 3",
   "language": "python",
   "name": "python3"
  },
  "language_info": {
   "codemirror_mode": {
    "name": "ipython",
    "version": 3
   },
   "file_extension": ".py",
   "mimetype": "text/x-python",
   "name": "python",
   "nbconvert_exporter": "python",
   "pygments_lexer": "ipython3",
   "version": "3.7.3"
  }
 },
 "nbformat": 4,
 "nbformat_minor": 2
}
