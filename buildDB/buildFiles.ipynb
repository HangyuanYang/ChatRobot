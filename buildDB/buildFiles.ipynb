{
 "cells": [
  {
   "cell_type": "code",
   "execution_count": null,
   "metadata": {},
   "outputs": [],
   "source": [
    "#Build companyDB\n",
    "import sqlite3\n",
    "import csv\n",
    "from iexfinance.stocks import Stock\n",
    "\n",
    "with open('companylist.csv','r') as csvfile:\n",
    "    reader = csv.DictReader(csvfile)\n",
    "    symbols = [row['Symbol'] for row in reader]\n",
    "print(len(symbols))\n",
    "conn = sqlite3.connect('companyDB.db')\n",
    "c = conn.cursor()\n",
    "c.execute(\"DROP TABLE if exists company\")\n",
    "c.execute(\n",
    "    \"CREATE TABLE IF NOT EXISTS company(id int, abbreviation text　COLLATE NOCASE, city text　COLLATE NOCASE, \"\n",
    "    \"conference text　COLLATE NOCASE, division text　COLLATE NOCASE,full_name text　COLLATE NOCASE,name text　COLLATE NOCASE)\")\n",
    "for symbol in symbols:\n",
    "        try:\n",
    "            stk = Stock(symbol,token=\"sk_9520be7c9fdb4ae5ad5055d91ce95721\")\n",
    "            res = stk.get_company()\n",
    "        except:\n",
    "            print(symbol+\" not find!\")\n",
    "            continue\n",
    "        else:\n",
    "            if len(results) < 2:\n",
    "                results.append(symbol)\n",
    "                print(symbol)\n",
    "            else:\n",
    "                return results\n",
    "    return results\n",
    "\n",
    "for team in result['data']:\n",
    "    insert_str = \"INSERT INTO team(id, abbreviation, city, conference, division, full_name, name) VALUES(?,?,?,?,?,?,?)\"\n",
    "    t = tuple(team.values())\n",
    "    c.execute(insert_str, t)\n",
    "c.execute(\"commit\")"
   ]
  },
  {
   "cell_type": "code",
   "execution_count": 28,
   "metadata": {},
   "outputs": [],
   "source": [
    "import sqlite3\n",
    "conn = sqlite3.connect('companyDB.db')\n",
    "c = conn.cursor()\n",
    "c.execute(\"SELECT city FROM company\")\n",
    "with open(\"citys.txt\",\"w\") as f:\n",
    "    for i in set(c.fetchall()):\n",
    "        if i[0] is not None:\n",
    "            f.writelines(i[0]+\"\\n\")\n"
   ]
  },
  {
   "cell_type": "code",
   "execution_count": 8,
   "metadata": {},
   "outputs": [
    {
     "data": {
      "text/plain": [
       "26"
      ]
     },
     "execution_count": 8,
     "metadata": {},
     "output_type": "execute_result"
    }
   ],
   "source": [
    "len(\"something about the stock \")"
   ]
  },
  {
   "cell_type": "code",
   "execution_count": 36,
   "metadata": {},
   "outputs": [
    {
     "name": "stdout",
     "output_type": "stream",
     "text": [
      "[('FTEO', 'FRONTEO, Inc.', 'NASDAQ', None, 'Tokyo', 'JP')]\n"
     ]
    }
   ],
   "source": [
    "import sqlite3\n",
    "conn = sqlite3.connect('companyDB.db')\n",
    "c = conn.cursor()\n",
    "c.execute(\"SELECT * FROM company WHERE symbol=?\",(\"FTEO\",))\n",
    "print(c.fetchall())"
   ]
  },
  {
   "cell_type": "code",
   "execution_count": 3,
   "metadata": {},
   "outputs": [
    {
     "name": "stdout",
     "output_type": "stream",
     "text": [
      "0\n"
     ]
    }
   ],
   "source": [
    "INIT,AUTHED,CHOOSE_COFFEE,ORDERED=range(4)\n",
    "policy_rules = {\n",
    "    (INIT, None): (10, None,None),\n",
    "    (INIT, \"number\"): (AUTHED, \"perfect, welcome back!\", None),\n",
    "    (AUTHED, \"order\"): (CHOOSE_COFFEE, \"would you like Columbian or Kenyan?\", None),    \n",
    "    (CHOOSE_COFFEE, \"specify_coffee\"): (ORDERED, \"perfect, the beans are on their way!\", None)\n",
    "}\n",
    "it = 0\n",
    "if policy_rules.__contains__((AUTHED,None)):\n",
    "    it,that,his= policy_rules[(AUTHED,None)]\n",
    "print(it)"
   ]
  },
  {
   "cell_type": "code",
   "execution_count": 6,
   "metadata": {},
   "outputs": [
    {
     "data": {
      "text/plain": [
       "['AAPL']"
      ]
     },
     "execution_count": 6,
     "metadata": {},
     "output_type": "execute_result"
    }
   ],
   "source": [
    "list(('AAPL',))"
   ]
  },
  {
   "cell_type": "code",
   "execution_count": 13,
   "metadata": {},
   "outputs": [
    {
     "data": {
      "text/plain": [
       "['b', 'c', 'd']"
      ]
     },
     "execution_count": 13,
     "metadata": {},
     "output_type": "execute_result"
    }
   ],
   "source": [
    "news = ['a','b','c','d']\n",
    "news[-3:]"
   ]
  },
  {
   "cell_type": "code",
   "execution_count": null,
   "metadata": {},
   "outputs": [],
   "source": []
  }
 ],
 "metadata": {
  "kernelspec": {
   "display_name": "Python 3",
   "language": "python",
   "name": "python3"
  },
  "language_info": {
   "codemirror_mode": {
    "name": "ipython",
    "version": 3
   },
   "file_extension": ".py",
   "mimetype": "text/x-python",
   "name": "python",
   "nbconvert_exporter": "python",
   "pygments_lexer": "ipython3",
   "version": "3.7.3"
  }
 },
 "nbformat": 4,
 "nbformat_minor": 2
}
